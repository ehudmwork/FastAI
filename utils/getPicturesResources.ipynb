# It seems that search engines, althoguh gladly offering performing images search on your browser, 
# fancey much less being search by python scripts.

# This script uses ddgs to get urls of images
# I've been
# How to use :% substitute /cats/search-term
#              set max_results to wish 
!pip install ddgs==9.5.5
import ddgs
print(ddgs.__version__)

import ddgs 
from ddgs import DDGS

with DDGS() as ddgs:
    results1 = ddgs.images("cats", max_results=500)
    for r in results1:
        print(r["image"])
