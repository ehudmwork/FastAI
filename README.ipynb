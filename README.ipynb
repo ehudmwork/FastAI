{
 "cells": [
  {
   "cell_type": "markdown",
   "id": "ff293742-f029-454a-a75c-da2d7c5173d8",
   "metadata": {
    "editable": true,
    "panel-layout": {
     "height": 51.13750076293945,
     "visible": true,
     "width": 100
    },
    "slideshow": {
     "slide_type": ""
    },
    "tags": []
   },
   "source": [
    "I'm taking the Fast AI course."
   ]
  },
  {
   "cell_type": "code",
   "execution_count": 2,
   "id": "f4e0b421-2a3e-4fd5-a7c0-5a246ceba876",
   "metadata": {
    "editable": true,
    "slideshow": {
     "slide_type": ""
    },
    "tags": []
   },
   "outputs": [
    {
     "data": {
      "text/plain": [
       "2"
      ]
     },
     "execution_count": 2,
     "metadata": {},
     "output_type": "execute_result"
    }
   ],
   "source": [
    "#Common knowlegde. This can run Python.\n",
    "1+1"
   ]
  },
  {
   "cell_type": "markdown",
   "id": "670f631b-69eb-4d11-9ce1-62d91d75e46d",
   "metadata": {
    "editable": true,
    "slideshow": {
     "slide_type": ""
    },
    "tags": []
   },
   "source": []
  }
 ],
 "metadata": {
  "kernelspec": {
   "display_name": "Python 3 (ipykernel)",
   "language": "python",
   "name": "python3"
  },
  "language_info": {
   "codemirror_mode": {
    "name": "ipython",
    "version": 3
   },
   "file_extension": ".py",
   "mimetype": "text/x-python",
   "name": "python",
   "nbconvert_exporter": "python",
   "pygments_lexer": "ipython3",
   "version": "3.13.5"
  },
  "panel-cell-order": [
   "ff293742-f029-454a-a75c-da2d7c5173d8"
  ]
 },
 "nbformat": 4,
 "nbformat_minor": 5
}
