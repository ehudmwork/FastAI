{
 "cells": [
  {
   "cell_type": "markdown",
   "id": "ff293742-f029-454a-a75c-da2d7c5173d8",
   "metadata": {
    "editable": true,
    "panel-layout": {
     "height": 51.13750076293945,
     "visible": true,
     "width": 100
    },
    "slideshow": {
     "slide_type": ""
    },
    "tags": []
   },
   "source": [
    "I'm taking the Fast AI course."
   ]
  },
  {
   "cell_type": "code",
   "execution_count": 2,
   "id": "f4e0b421-2a3e-4fd5-a7c0-5a246ceba876",
   "metadata": {
    "editable": true,
    "slideshow": {
     "slide_type": ""
    },
    "tags": []
   },
   "outputs": [
    {
     "data": {
      "text/plain": [
       "2"
      ]
     },
     "execution_count": 2,
     "metadata": {},
     "output_type": "execute_result"
    }
   ],
   "source": [
    "#Common knowlegde. This can run Python.\n",
    "1+1"
   ]
  },
  {
   "cell_type": "code",
   "execution_count": 2,
   "id": "d35d48c9-cf28-4473-8fcc-05605ef1fa55",
   "metadata": {},
   "outputs": [
    {
     "name": "stdout",
     "output_type": "stream",
     "text": [
      "done\n"
     ]
    }
   ],
   "source": [
    "#    This code is only here to check that your internet is enabled. It doesn't do anything else.\n",
    "\n",
    "import socket,warnings\n",
    "try:\n",
    "    socket.setdefaulttimeout(1)\n",
    "    socket.socket(socket.AF_INET, socket.SOCK_STREAM).connect(('1.1.1.1', 53))\n",
    "except socket.error as ex: raise Exception(\"STOP: No internet. Click '>|' in top right and set 'Internet' switch to on\")\n",
    "print('done')"
   ]
  },
  {
   "cell_type": "code",
   "execution_count": null,
   "id": "be8da399-9633-4436-95cf-c885cbb36b88",
   "metadata": {},
   "outputs": [],
   "source": []
  }
 ],
 "metadata": {
  "kernelspec": {
   "display_name": "Python 3 (ipykernel)",
   "language": "python",
   "name": "python3"
  },
  "language_info": {
   "codemirror_mode": {
    "name": "ipython",
    "version": 3
   },
   "file_extension": ".py",
   "mimetype": "text/x-python",
   "name": "python",
   "nbconvert_exporter": "python",
   "pygments_lexer": "ipython3",
   "version": "3.13.5"
  },
  "panel-cell-order": [
   "ff293742-f029-454a-a75c-da2d7c5173d8"
  ]
 },
 "nbformat": 4,
 "nbformat_minor": 5
}
